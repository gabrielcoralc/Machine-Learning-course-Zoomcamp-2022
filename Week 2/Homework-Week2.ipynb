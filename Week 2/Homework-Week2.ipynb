{
 "cells": [
  {
   "cell_type": "markdown",
   "id": "f252db9b",
   "metadata": {},
   "source": [
    "# Homework -  Week 2\n",
    "## Load and analyze data\n",
    "\n",
    "We start this homework by loading the data about California house princing and giving it quick view "
   ]
  },
  {
   "cell_type": "code",
   "execution_count": 15,
   "id": "53149b12",
   "metadata": {},
   "outputs": [],
   "source": [
    "##Libraries\n",
    "#Data wrangling and matrix operations\n",
    "import pandas as pd\n",
    "import numpy as np\n",
    "#Visualizations\n",
    "import matplotlib.pyplot as plt\n",
    "import seaborn as sns\n",
    "#Model functions\n",
    "from sklearn.model_selection import train_test_split"
   ]
  },
  {
   "cell_type": "code",
   "execution_count": 24,
   "id": "0bda87ab",
   "metadata": {},
   "outputs": [
    {
     "data": {
      "text/html": [
       "<div>\n",
       "<style scoped>\n",
       "    .dataframe tbody tr th:only-of-type {\n",
       "        vertical-align: middle;\n",
       "    }\n",
       "\n",
       "    .dataframe tbody tr th {\n",
       "        vertical-align: top;\n",
       "    }\n",
       "\n",
       "    .dataframe thead th {\n",
       "        text-align: right;\n",
       "    }\n",
       "</style>\n",
       "<table border=\"1\" class=\"dataframe\">\n",
       "  <thead>\n",
       "    <tr style=\"text-align: right;\">\n",
       "      <th></th>\n",
       "      <th>longitude</th>\n",
       "      <th>latitude</th>\n",
       "      <th>housing_median_age</th>\n",
       "      <th>total_rooms</th>\n",
       "      <th>total_bedrooms</th>\n",
       "      <th>population</th>\n",
       "      <th>households</th>\n",
       "      <th>median_income</th>\n",
       "      <th>median_house_value</th>\n",
       "      <th>ocean_proximity</th>\n",
       "    </tr>\n",
       "  </thead>\n",
       "  <tbody>\n",
       "    <tr>\n",
       "      <th>0</th>\n",
       "      <td>-122.23</td>\n",
       "      <td>37.88</td>\n",
       "      <td>41.0</td>\n",
       "      <td>880.0</td>\n",
       "      <td>129.0</td>\n",
       "      <td>322.0</td>\n",
       "      <td>126.0</td>\n",
       "      <td>8.3252</td>\n",
       "      <td>452600.0</td>\n",
       "      <td>NEAR BAY</td>\n",
       "    </tr>\n",
       "    <tr>\n",
       "      <th>1</th>\n",
       "      <td>-122.22</td>\n",
       "      <td>37.86</td>\n",
       "      <td>21.0</td>\n",
       "      <td>7099.0</td>\n",
       "      <td>1106.0</td>\n",
       "      <td>2401.0</td>\n",
       "      <td>1138.0</td>\n",
       "      <td>8.3014</td>\n",
       "      <td>358500.0</td>\n",
       "      <td>NEAR BAY</td>\n",
       "    </tr>\n",
       "    <tr>\n",
       "      <th>2</th>\n",
       "      <td>-122.24</td>\n",
       "      <td>37.85</td>\n",
       "      <td>52.0</td>\n",
       "      <td>1467.0</td>\n",
       "      <td>190.0</td>\n",
       "      <td>496.0</td>\n",
       "      <td>177.0</td>\n",
       "      <td>7.2574</td>\n",
       "      <td>352100.0</td>\n",
       "      <td>NEAR BAY</td>\n",
       "    </tr>\n",
       "    <tr>\n",
       "      <th>3</th>\n",
       "      <td>-122.25</td>\n",
       "      <td>37.85</td>\n",
       "      <td>52.0</td>\n",
       "      <td>1274.0</td>\n",
       "      <td>235.0</td>\n",
       "      <td>558.0</td>\n",
       "      <td>219.0</td>\n",
       "      <td>5.6431</td>\n",
       "      <td>341300.0</td>\n",
       "      <td>NEAR BAY</td>\n",
       "    </tr>\n",
       "    <tr>\n",
       "      <th>4</th>\n",
       "      <td>-122.25</td>\n",
       "      <td>37.85</td>\n",
       "      <td>52.0</td>\n",
       "      <td>1627.0</td>\n",
       "      <td>280.0</td>\n",
       "      <td>565.0</td>\n",
       "      <td>259.0</td>\n",
       "      <td>3.8462</td>\n",
       "      <td>342200.0</td>\n",
       "      <td>NEAR BAY</td>\n",
       "    </tr>\n",
       "  </tbody>\n",
       "</table>\n",
       "</div>"
      ],
      "text/plain": [
       "   longitude  latitude  housing_median_age  total_rooms  total_bedrooms  \\\n",
       "0    -122.23     37.88                41.0        880.0           129.0   \n",
       "1    -122.22     37.86                21.0       7099.0          1106.0   \n",
       "2    -122.24     37.85                52.0       1467.0           190.0   \n",
       "3    -122.25     37.85                52.0       1274.0           235.0   \n",
       "4    -122.25     37.85                52.0       1627.0           280.0   \n",
       "\n",
       "   population  households  median_income  median_house_value ocean_proximity  \n",
       "0       322.0       126.0         8.3252            452600.0        NEAR BAY  \n",
       "1      2401.0      1138.0         8.3014            358500.0        NEAR BAY  \n",
       "2       496.0       177.0         7.2574            352100.0        NEAR BAY  \n",
       "3       558.0       219.0         5.6431            341300.0        NEAR BAY  \n",
       "4       565.0       259.0         3.8462            342200.0        NEAR BAY  "
      ]
     },
     "execution_count": 24,
     "metadata": {},
     "output_type": "execute_result"
    }
   ],
   "source": [
    "#Load data from URL\n",
    "url=\"https://raw.githubusercontent.com/alexeygrigorev/datasets/master/housing.csv\"\n",
    "df = pd.read_csv(url)\n",
    "df.head()"
   ]
  },
  {
   "cell_type": "code",
   "execution_count": 25,
   "id": "fc531942",
   "metadata": {},
   "outputs": [],
   "source": [
    "# We are not working with categorical variables in this project so let's drop these\n",
    "\n",
    "df=df.drop(columns=['ocean_proximity'])\n",
    "\n",
    "## Define features and target variable\n",
    "Y_target=['median_house_value']\n",
    "X_features=list(set(df.columns).difference(Y_target))"
   ]
  },
  {
   "cell_type": "code",
   "execution_count": 5,
   "id": "40a3d0df",
   "metadata": {},
   "outputs": [
    {
     "data": {
      "text/html": [
       "<div>\n",
       "<style scoped>\n",
       "    .dataframe tbody tr th:only-of-type {\n",
       "        vertical-align: middle;\n",
       "    }\n",
       "\n",
       "    .dataframe tbody tr th {\n",
       "        vertical-align: top;\n",
       "    }\n",
       "\n",
       "    .dataframe thead th {\n",
       "        text-align: right;\n",
       "    }\n",
       "</style>\n",
       "<table border=\"1\" class=\"dataframe\">\n",
       "  <thead>\n",
       "    <tr style=\"text-align: right;\">\n",
       "      <th></th>\n",
       "      <th>longitude</th>\n",
       "      <th>latitude</th>\n",
       "      <th>housing_median_age</th>\n",
       "      <th>total_rooms</th>\n",
       "      <th>total_bedrooms</th>\n",
       "      <th>population</th>\n",
       "      <th>households</th>\n",
       "      <th>median_income</th>\n",
       "      <th>median_house_value</th>\n",
       "    </tr>\n",
       "  </thead>\n",
       "  <tbody>\n",
       "    <tr>\n",
       "      <th>count</th>\n",
       "      <td>20640.000000</td>\n",
       "      <td>20640.000000</td>\n",
       "      <td>20640.000000</td>\n",
       "      <td>20640.000000</td>\n",
       "      <td>20433.000000</td>\n",
       "      <td>20640.000000</td>\n",
       "      <td>20640.000000</td>\n",
       "      <td>20640.000000</td>\n",
       "      <td>20640.000000</td>\n",
       "    </tr>\n",
       "    <tr>\n",
       "      <th>mean</th>\n",
       "      <td>-119.569704</td>\n",
       "      <td>35.631861</td>\n",
       "      <td>28.639486</td>\n",
       "      <td>2635.763081</td>\n",
       "      <td>537.870553</td>\n",
       "      <td>1425.476744</td>\n",
       "      <td>499.539680</td>\n",
       "      <td>3.870671</td>\n",
       "      <td>206855.816909</td>\n",
       "    </tr>\n",
       "    <tr>\n",
       "      <th>std</th>\n",
       "      <td>2.003532</td>\n",
       "      <td>2.135952</td>\n",
       "      <td>12.585558</td>\n",
       "      <td>2181.615252</td>\n",
       "      <td>421.385070</td>\n",
       "      <td>1132.462122</td>\n",
       "      <td>382.329753</td>\n",
       "      <td>1.899822</td>\n",
       "      <td>115395.615874</td>\n",
       "    </tr>\n",
       "    <tr>\n",
       "      <th>min</th>\n",
       "      <td>-124.350000</td>\n",
       "      <td>32.540000</td>\n",
       "      <td>1.000000</td>\n",
       "      <td>2.000000</td>\n",
       "      <td>1.000000</td>\n",
       "      <td>3.000000</td>\n",
       "      <td>1.000000</td>\n",
       "      <td>0.499900</td>\n",
       "      <td>14999.000000</td>\n",
       "    </tr>\n",
       "    <tr>\n",
       "      <th>25%</th>\n",
       "      <td>-121.800000</td>\n",
       "      <td>33.930000</td>\n",
       "      <td>18.000000</td>\n",
       "      <td>1447.750000</td>\n",
       "      <td>296.000000</td>\n",
       "      <td>787.000000</td>\n",
       "      <td>280.000000</td>\n",
       "      <td>2.563400</td>\n",
       "      <td>119600.000000</td>\n",
       "    </tr>\n",
       "    <tr>\n",
       "      <th>50%</th>\n",
       "      <td>-118.490000</td>\n",
       "      <td>34.260000</td>\n",
       "      <td>29.000000</td>\n",
       "      <td>2127.000000</td>\n",
       "      <td>435.000000</td>\n",
       "      <td>1166.000000</td>\n",
       "      <td>409.000000</td>\n",
       "      <td>3.534800</td>\n",
       "      <td>179700.000000</td>\n",
       "    </tr>\n",
       "    <tr>\n",
       "      <th>75%</th>\n",
       "      <td>-118.010000</td>\n",
       "      <td>37.710000</td>\n",
       "      <td>37.000000</td>\n",
       "      <td>3148.000000</td>\n",
       "      <td>647.000000</td>\n",
       "      <td>1725.000000</td>\n",
       "      <td>605.000000</td>\n",
       "      <td>4.743250</td>\n",
       "      <td>264725.000000</td>\n",
       "    </tr>\n",
       "    <tr>\n",
       "      <th>max</th>\n",
       "      <td>-114.310000</td>\n",
       "      <td>41.950000</td>\n",
       "      <td>52.000000</td>\n",
       "      <td>39320.000000</td>\n",
       "      <td>6445.000000</td>\n",
       "      <td>35682.000000</td>\n",
       "      <td>6082.000000</td>\n",
       "      <td>15.000100</td>\n",
       "      <td>500001.000000</td>\n",
       "    </tr>\n",
       "  </tbody>\n",
       "</table>\n",
       "</div>"
      ],
      "text/plain": [
       "          longitude      latitude  housing_median_age   total_rooms  \\\n",
       "count  20640.000000  20640.000000        20640.000000  20640.000000   \n",
       "mean    -119.569704     35.631861           28.639486   2635.763081   \n",
       "std        2.003532      2.135952           12.585558   2181.615252   \n",
       "min     -124.350000     32.540000            1.000000      2.000000   \n",
       "25%     -121.800000     33.930000           18.000000   1447.750000   \n",
       "50%     -118.490000     34.260000           29.000000   2127.000000   \n",
       "75%     -118.010000     37.710000           37.000000   3148.000000   \n",
       "max     -114.310000     41.950000           52.000000  39320.000000   \n",
       "\n",
       "       total_bedrooms    population    households  median_income  \\\n",
       "count    20433.000000  20640.000000  20640.000000   20640.000000   \n",
       "mean       537.870553   1425.476744    499.539680       3.870671   \n",
       "std        421.385070   1132.462122    382.329753       1.899822   \n",
       "min          1.000000      3.000000      1.000000       0.499900   \n",
       "25%        296.000000    787.000000    280.000000       2.563400   \n",
       "50%        435.000000   1166.000000    409.000000       3.534800   \n",
       "75%        647.000000   1725.000000    605.000000       4.743250   \n",
       "max       6445.000000  35682.000000   6082.000000      15.000100   \n",
       "\n",
       "       median_house_value  \n",
       "count        20640.000000  \n",
       "mean        206855.816909  \n",
       "std         115395.615874  \n",
       "min          14999.000000  \n",
       "25%         119600.000000  \n",
       "50%         179700.000000  \n",
       "75%         264725.000000  \n",
       "max         500001.000000  "
      ]
     },
     "execution_count": 5,
     "metadata": {},
     "output_type": "execute_result"
    }
   ],
   "source": [
    "# Lets get a summary from the data\n",
    "df.describe()"
   ]
  },
  {
   "cell_type": "markdown",
   "id": "26f0630c",
   "metadata": {},
   "source": [
    "How is the behavior from our target variable?"
   ]
  },
  {
   "cell_type": "code",
   "execution_count": 10,
   "id": "6e0a5b3b",
   "metadata": {},
   "outputs": [
    {
     "data": {
      "text/plain": [
       "<AxesSubplot:xlabel='median_house_value'>"
      ]
     },
     "execution_count": 10,
     "metadata": {},
     "output_type": "execute_result"
    },
    {
     "data": {
      "image/png": "[encoded data removed]",
      "text/plain": [
       "<Figure size 432x288 with 1 Axes>"
      ]
     },
     "metadata": {
      "needs_background": "light"
     },
     "output_type": "display_data"
    }
   ],
   "source": [
    "sns.boxplot(x=df.median_house_value)\n"
   ]
  },
  {
   "cell_type": "code",
   "execution_count": 9,
   "id": "ddf18ae2",
   "metadata": {},
   "outputs": [
    {
     "data": {
      "text/plain": [
       "<AxesSubplot:xlabel='median_house_value', ylabel='Count'>"
      ]
     },
     "execution_count": 9,
     "metadata": {},
     "output_type": "execute_result"
    },
    {
     "data": {
      "image/png": "[encoded data removed]",
      "text/plain": [
       "<Figure size 432x288 with 1 Axes>"
      ]
     },
     "metadata": {
      "needs_background": "light"
     },
     "output_type": "display_data"
    }
   ],
   "source": [
    "sns.histplot(df.median_house_value)"
   ]
  },
  {
   "cell_type": "markdown",
   "id": "72e161ef",
   "metadata": {},
   "source": [
    "This variables doesn't have a normal distribution. It could be more usefull if we apply some tranformation to this variable when modelling"
   ]
  },
  {
   "cell_type": "markdown",
   "id": "f413b8eb",
   "metadata": {},
   "source": [
    "### Question 1\n",
    "Find a feature with missing values. How many missing values does it have?"
   ]
  },
  {
   "cell_type": "code",
   "execution_count": 13,
   "id": "3e6e3768",
   "metadata": {},
   "outputs": [
    {
     "data": {
      "text/plain": [
       "longitude               0\n",
       "latitude                0\n",
       "housing_median_age      0\n",
       "total_rooms             0\n",
       "total_bedrooms        207\n",
       "population              0\n",
       "households              0\n",
       "median_income           0\n",
       "median_house_value      0\n",
       "dtype: int64"
      ]
     },
     "execution_count": 13,
     "metadata": {},
     "output_type": "execute_result"
    }
   ],
   "source": [
    "df.isna().sum()"
   ]
  },
  {
   "cell_type": "markdown",
   "id": "b9628602",
   "metadata": {},
   "source": [
    "The feature total_bedrooms has 207 missing values."
   ]
  },
  {
   "cell_type": "markdown",
   "id": "60f1f785",
   "metadata": {},
   "source": [
    "### Question 2\n",
    "What's the median (50% percentile) for variable 'population'?"
   ]
  },
  {
   "cell_type": "code",
   "execution_count": 14,
   "id": "de61fac0",
   "metadata": {},
   "outputs": [
    {
     "data": {
      "text/plain": [
       "1166.0"
      ]
     },
     "execution_count": 14,
     "metadata": {},
     "output_type": "execute_result"
    }
   ],
   "source": [
    "df.population.quantile(0.5)"
   ]
  },
  {
   "cell_type": "markdown",
   "id": "306b8001",
   "metadata": {},
   "source": [
    "### Split the data\n",
    "Now we split data into training, test, validation\n",
    "- Shuffle the initial dataset, use seed 42.\n",
    "- Split your data in train/val/test sets, with 60%/20%/20% distribution.\n",
    "- Make sure that the target value ('median_house_value') is not in your dataframe.\n",
    "- Apply the log transformation to the median_house_value variable using the np.log1p() function."
   ]
  },
  {
   "cell_type": "code",
   "execution_count": 29,
   "id": "5cf8fa47",
   "metadata": {},
   "outputs": [],
   "source": [
    "X=df[X_features]\n",
    "y=df[Y_target].apply(lambda x: np.log1p(x)) #Transform our target variable\n",
    "X_train, X_test, y_train, y_test = train_test_split(X, y, test_size=0.4, random_state=42) # train 60% and test 40%\n",
    "X_test, X_validation, y_test, y_validation = train_test_split(X_test, y_test, test_size=0.5, random_state=42)  \n",
    "#lets split test in half so validation has 20% and test 20% from the original dataset"
   ]
  },
  {
   "cell_type": "markdown",
   "id": "26d012d7",
   "metadata": {},
   "source": [
    "### Question 3\n",
    "- We need to deal with missing values for the column from Q1.\n",
    "- We have two options: fill it with 0 or with the mean of this variable.\n",
    "- Try both options. For each, train a linear regression model without regularization using the code from the lessons.\n",
    "- For computing the mean, use the training only!\n",
    "- Use the validation dataset to evaluate the models and compare the RMSE of each option.\n",
    "- Round the RMSE scores to 2 decimal digits using round(score, 2)\n",
    "- Which option gives better RMSE?"
   ]
  },
  {
   "cell_type": "code",
   "execution_count": 38,
   "id": "d631bbbe",
   "metadata": {},
   "outputs": [],
   "source": [
    "## Lest first define the functions we are going to use\n",
    "\n",
    "class LinearRegression():\n",
    "\n",
    "    def fit(self,X:np.array, y:np.array, r:float=0.0):\n",
    "        ones = np.ones(X.shape[0])\n",
    "        X = np.column_stack([ones, X])\n",
    "\n",
    "        XTX = X.T.dot(X)\n",
    "        reg = r * np.eye(XTX.shape[0])\n",
    "        XTX = XTX + reg\n",
    "\n",
    "        XTX_inv = np.linalg.inv(XTX)\n",
    "        self.w = XTX_inv.dot(X.T).dot(y)\n",
    "    \n",
    "    def predict(self,X:np.array)->np.array:\n",
    "        return self.w[0] + X.dot(self.w[1:])\n",
    "\n",
    "\n",
    "def rmse(y:np.array, y_pred:np.array)->float:\n",
    "    error = y_pred - y\n",
    "    mse = (error ** 2).mean()\n",
    "    return np.sqrt(mse)"
   ]
  },
  {
   "cell_type": "code",
   "execution_count": 39,
   "id": "e3cd6153",
   "metadata": {},
   "outputs": [
    {
     "data": {
      "text/plain": [
       "0.35"
      ]
     },
     "execution_count": 39,
     "metadata": {},
     "output_type": "execute_result"
    }
   ],
   "source": [
    "# Deal with missing values\n",
    "#Option 1 Filling with zeros\n",
    "value_tofill=0\n",
    "X_train_=X_train.fillna(value_tofill)\n",
    "model=LinearRegression()\n",
    "model.fit(X_train_.values,y_train.values)\n",
    "prediction=model.predict(X_validation.fillna(value_tofill).values)\n",
    "round(rmse(y_validation.values,prediction),2)"
   ]
  },
  {
   "cell_type": "code",
   "execution_count": 40,
   "id": "1c33d9b5",
   "metadata": {},
   "outputs": [
    {
     "data": {
      "text/plain": [
       "0.34"
      ]
     },
     "execution_count": 40,
     "metadata": {},
     "output_type": "execute_result"
    }
   ],
   "source": [
    "# Deal with missing values\n",
    "#Option 2 Filling it with the mean\n",
    "value_tofill=X_train.total_bedrooms.mean()\n",
    "X_train_=X_train.fillna(value_tofill)\n",
    "model=LinearRegression()\n",
    "model.fit(X_train_.values,y_train.values)\n",
    "prediction=model.predict(X_validation.fillna(value_tofill).values)\n",
    "round(rmse(y_validation.values,prediction),2)"
   ]
  },
  {
   "cell_type": "markdown",
   "id": "c249ceac",
   "metadata": {},
   "source": [
    "the \"mean\" option is slightly better than filling with zeros"
   ]
  },
  {
   "cell_type": "markdown",
   "id": "d6ffbbd4",
   "metadata": {},
   "source": [
    "### Question 4\n",
    "- Now let's train a regularized linear regression.\n",
    "- For this question, fill the NAs with 0.\n",
    "- Try different values of r from this list: [0, 0.000001, 0.0001, 0.001, 0.01, 0.1, 1, 5, 10].\n",
    "- Use RMSE to evaluate the model on the validation dataset.\n",
    "- Round the RMSE scores to 2 decimal digits.\n",
    "- Which r gives the best RMSE?"
   ]
  },
  {
   "cell_type": "code",
   "execution_count": 46,
   "id": "09590b9c",
   "metadata": {},
   "outputs": [
    {
     "data": {
      "text/html": [
       "<div>\n",
       "<style scoped>\n",
       "    .dataframe tbody tr th:only-of-type {\n",
       "        vertical-align: middle;\n",
       "    }\n",
       "\n",
       "    .dataframe tbody tr th {\n",
       "        vertical-align: top;\n",
       "    }\n",
       "\n",
       "    .dataframe thead th {\n",
       "        text-align: right;\n",
       "    }\n",
       "</style>\n",
       "<table border=\"1\" class=\"dataframe\">\n",
       "  <thead>\n",
       "    <tr style=\"text-align: right;\">\n",
       "      <th></th>\n",
       "      <th>regularization_p</th>\n",
       "      <th>RMSE_error</th>\n",
       "    </tr>\n",
       "  </thead>\n",
       "  <tbody>\n",
       "    <tr>\n",
       "      <th>0</th>\n",
       "      <td>0.000000</td>\n",
       "      <td>0.34538</td>\n",
       "    </tr>\n",
       "    <tr>\n",
       "      <th>1</th>\n",
       "      <td>0.000001</td>\n",
       "      <td>0.34538</td>\n",
       "    </tr>\n",
       "    <tr>\n",
       "      <th>2</th>\n",
       "      <td>0.001000</td>\n",
       "      <td>0.34537</td>\n",
       "    </tr>\n",
       "    <tr>\n",
       "      <th>3</th>\n",
       "      <td>0.010000</td>\n",
       "      <td>0.34535</td>\n",
       "    </tr>\n",
       "  </tbody>\n",
       "</table>\n",
       "</div>"
      ],
      "text/plain": [
       "   regularization_p  RMSE_error\n",
       "0          0.000000     0.34538\n",
       "1          0.000001     0.34538\n",
       "2          0.001000     0.34537\n",
       "3          0.010000     0.34535"
      ]
     },
     "execution_count": 46,
     "metadata": {},
     "output_type": "execute_result"
    }
   ],
   "source": [
    "# Deal with missing values\n",
    "value_tofill=0\n",
    "X_train_=X_train.fillna(value_tofill)\n",
    "r_values= [0,0.000001,0.001,0.01]\n",
    "errors=[]\n",
    "for r in r_values:\n",
    "    model=LinearRegression()\n",
    "    model.fit(X_train_.values,y_train.values,r)\n",
    "    prediction=model.predict(X_validation.fillna(value_tofill).values)\n",
    "    error=round(rmse(y_validation.values,prediction),5)\n",
    "    errors.append([r,error])\n",
    "df_error=pd.DataFrame(errors,columns=['regularization_p','RMSE_error'])\n",
    "df_error"
   ]
  },
  {
   "cell_type": "code",
   "execution_count": 47,
   "id": "ee4ca0ca",
   "metadata": {},
   "outputs": [
    {
     "data": {
      "text/html": [
       "<div>\n",
       "<style scoped>\n",
       "    .dataframe tbody tr th:only-of-type {\n",
       "        vertical-align: middle;\n",
       "    }\n",
       "\n",
       "    .dataframe tbody tr th {\n",
       "        vertical-align: top;\n",
       "    }\n",
       "\n",
       "    .dataframe thead th {\n",
       "        text-align: right;\n",
       "    }\n",
       "</style>\n",
       "<table border=\"1\" class=\"dataframe\">\n",
       "  <thead>\n",
       "    <tr style=\"text-align: right;\">\n",
       "      <th></th>\n",
       "      <th>regularization_p</th>\n",
       "      <th>RMSE_error</th>\n",
       "    </tr>\n",
       "  </thead>\n",
       "  <tbody>\n",
       "    <tr>\n",
       "      <th>3</th>\n",
       "      <td>0.01</td>\n",
       "      <td>0.34535</td>\n",
       "    </tr>\n",
       "  </tbody>\n",
       "</table>\n",
       "</div>"
      ],
      "text/plain": [
       "   regularization_p  RMSE_error\n",
       "3              0.01     0.34535"
      ]
     },
     "execution_count": 47,
     "metadata": {},
     "output_type": "execute_result"
    }
   ],
   "source": [
    "df_error[df_error.RMSE_error==df_error.RMSE_error.min()]"
   ]
  },
  {
   "cell_type": "markdown",
   "id": "5f478c5f",
   "metadata": {},
   "source": [
    "### Question 5\n",
    "- We used seed 42 for splitting the data. Let's find out how selecting the seed influences our score.\n",
    "- Try different seed values: [0, 1, 2, 3, 4, 5, 6, 7, 8, 9].\n",
    "- For each seed, do the train/validation/test split with 60%/20%/20% distribution.\n",
    "- Fill the missing values with 0 and train a model without regularization.\n",
    "- For each seed, evaluate the model on the validation dataset and collect the RMSE scores.\n",
    "- What's the standard deviation of all the scores? To compute the standard deviation, use np.std.\n",
    "- Round the result to 3 decimal digits (round(std, 3))"
   ]
  },
  {
   "cell_type": "code",
   "execution_count": 51,
   "id": "19665b8b",
   "metadata": {},
   "outputs": [
    {
     "data": {
      "text/html": [
       "<div>\n",
       "<style scoped>\n",
       "    .dataframe tbody tr th:only-of-type {\n",
       "        vertical-align: middle;\n",
       "    }\n",
       "\n",
       "    .dataframe tbody tr th {\n",
       "        vertical-align: top;\n",
       "    }\n",
       "\n",
       "    .dataframe thead th {\n",
       "        text-align: right;\n",
       "    }\n",
       "</style>\n",
       "<table border=\"1\" class=\"dataframe\">\n",
       "  <thead>\n",
       "    <tr style=\"text-align: right;\">\n",
       "      <th></th>\n",
       "      <th>seed</th>\n",
       "      <th>RMSE_error</th>\n",
       "    </tr>\n",
       "  </thead>\n",
       "  <tbody>\n",
       "    <tr>\n",
       "      <th>0</th>\n",
       "      <td>0</td>\n",
       "      <td>0.346643</td>\n",
       "    </tr>\n",
       "    <tr>\n",
       "      <th>1</th>\n",
       "      <td>1</td>\n",
       "      <td>0.340756</td>\n",
       "    </tr>\n",
       "    <tr>\n",
       "      <th>2</th>\n",
       "      <td>2</td>\n",
       "      <td>0.337593</td>\n",
       "    </tr>\n",
       "    <tr>\n",
       "      <th>3</th>\n",
       "      <td>3</td>\n",
       "      <td>0.340725</td>\n",
       "    </tr>\n",
       "    <tr>\n",
       "      <th>4</th>\n",
       "      <td>4</td>\n",
       "      <td>0.350303</td>\n",
       "    </tr>\n",
       "    <tr>\n",
       "      <th>5</th>\n",
       "      <td>5</td>\n",
       "      <td>0.349481</td>\n",
       "    </tr>\n",
       "    <tr>\n",
       "      <th>6</th>\n",
       "      <td>6</td>\n",
       "      <td>0.347355</td>\n",
       "    </tr>\n",
       "    <tr>\n",
       "      <th>7</th>\n",
       "      <td>7</td>\n",
       "      <td>0.338037</td>\n",
       "    </tr>\n",
       "    <tr>\n",
       "      <th>8</th>\n",
       "      <td>8</td>\n",
       "      <td>0.330263</td>\n",
       "    </tr>\n",
       "    <tr>\n",
       "      <th>9</th>\n",
       "      <td>9</td>\n",
       "      <td>0.345758</td>\n",
       "    </tr>\n",
       "  </tbody>\n",
       "</table>\n",
       "</div>"
      ],
      "text/plain": [
       "   seed  RMSE_error\n",
       "0     0    0.346643\n",
       "1     1    0.340756\n",
       "2     2    0.337593\n",
       "3     3    0.340725\n",
       "4     4    0.350303\n",
       "5     5    0.349481\n",
       "6     6    0.347355\n",
       "7     7    0.338037\n",
       "8     8    0.330263\n",
       "9     9    0.345758"
      ]
     },
     "execution_count": 51,
     "metadata": {},
     "output_type": "execute_result"
    }
   ],
   "source": [
    "value_tofill=0\n",
    "seeds=[0, 1, 2, 3, 4, 5, 6, 7, 8, 9]\n",
    "errors=[]\n",
    "\n",
    "for seed in seeds:\n",
    "    #split data\n",
    "    X=df[X_features]\n",
    "    y=df[Y_target].apply(lambda x: np.log1p(x)) #Transform our target variable\n",
    "    X_train, X_test, y_train, y_test = train_test_split(X, y, test_size=0.4, random_state=seed) # train 60% and test 40%\n",
    "    X_test, X_validation, y_test, y_validation = train_test_split(X_test, y_test, test_size=0.5, random_state=seed) \n",
    "    #fill missing values\n",
    "    X_train_=X_train.fillna(value_tofill)\n",
    "    #train and predict model\n",
    "    model=LinearRegression()\n",
    "    model.fit(X_train_.values,y_train.values)\n",
    "    prediction=model.predict(X_validation.fillna(value_tofill).values)\n",
    "    #save the errors\n",
    "    error=rmse(y_validation.values,prediction)\n",
    "    errors.append([seed,error])\n",
    "df_error=pd.DataFrame(errors,columns=['seed','RMSE_error'])\n",
    "df_error"
   ]
  },
  {
   "cell_type": "code",
   "execution_count": 53,
   "id": "c7f72d53",
   "metadata": {},
   "outputs": [
    {
     "data": {
      "text/plain": [
       "0.006"
      ]
     },
     "execution_count": 53,
     "metadata": {},
     "output_type": "execute_result"
    }
   ],
   "source": [
    "round(df_error.RMSE_error.std(),3)"
   ]
  },
  {
   "cell_type": "markdown",
   "id": "d9444a9c",
   "metadata": {},
   "source": [
    "### Question 6\n",
    "- Split the dataset like previously, use seed 9.\n",
    "- Combine train and validation datasets.\n",
    "- Fill the missing values with 0 and train a model with r=0.001.\n",
    "- What's the RMSE on the test dataset?\n"
   ]
  },
  {
   "cell_type": "code",
   "execution_count": 57,
   "id": "52381d57",
   "metadata": {},
   "outputs": [
    {
     "data": {
      "text/plain": [
       "0.3336439646395449"
      ]
     },
     "execution_count": 57,
     "metadata": {},
     "output_type": "execute_result"
    }
   ],
   "source": [
    "#variables\n",
    "value_tofill=0\n",
    "seed=9\n",
    "regularization=0.001\n",
    "\n",
    "#split data\n",
    "X=df[X_features]\n",
    "y=df[Y_target].apply(lambda x: np.log1p(x)) #Transform our target variable\n",
    "X_train, X_test, y_train, y_test = train_test_split(X, y, test_size=0.4, random_state=seed) # train 60% and test 40%\n",
    "X_test, X_validation, y_test, y_validation = train_test_split(X_test, y_test, test_size=0.5, random_state=seed) \n",
    "\n",
    "#combine train and validation\n",
    "X_train=pd.concat([X_train,X_validation])\n",
    "y_train=pd.concat([y_train,y_validation])\n",
    "\n",
    "#fill missing values\n",
    "X_train_=X_train.fillna(value_tofill)\n",
    "\n",
    "#train and predict model\n",
    "model=LinearRegression()\n",
    "model.fit(X_train_.values,y_train.values,r=regularization)\n",
    "prediction=model.predict(X_test.fillna(value_tofill).values)\n",
    "\n",
    "#save the errors\n",
    "error=rmse(y_test.values,prediction)\n",
    "error"
   ]
  },
  {
   "cell_type": "code",
   "execution_count": null,
   "id": "304460ab",
   "metadata": {},
   "outputs": [],
   "source": []
  }
 ],
 "metadata": {
  "kernelspec": {
   "display_name": "Python 3",
   "language": "python",
   "name": "python3"
  },
  "language_info": {
   "codemirror_mode": {
    "name": "ipython",
    "version": 3
   },
   "file_extension": ".py",
   "mimetype": "text/x-python",
   "name": "python",
   "nbconvert_exporter": "python",
   "pygments_lexer": "ipython3",
   "version": "3.8.8"
  }
 },
 "nbformat": 4,
 "nbformat_minor": 5
}

{
 "cells": [
  {
   "cell_type": "markdown",
   "id": "b8ecfac4",
   "metadata": {},
   "source": [
    "# Homework - Classification"
   ]
  },
  {
   "cell_type": "code",
   "execution_count": 28,
   "id": "027e1303",
   "metadata": {},
   "outputs": [],
   "source": [
    "#Import necessary libraries\n",
    "\n",
    "import pandas as pd \n",
    "import numpy as np\n",
    "\n",
    "from sklearn.model_selection import train_test_split\n",
    "from sklearn.linear_model import LogisticRegression\n",
    "from sklearn.linear_model import Ridge\n",
    "\n",
    "\n",
    "import seaborn as sns\n",
    "import matplotlib.pyplot as plt"
   ]
  },
  {
   "cell_type": "markdown",
   "id": "8ff9c2b9",
   "metadata": {},
   "source": [
    "## Load the dataset"
   ]
  },
  {
   "cell_type": "code",
   "execution_count": 22,
   "id": "6f6e256b",
   "metadata": {},
   "outputs": [
    {
     "data": {
      "text/html": [
       "<div>\n",
       "<style scoped>\n",
       "    .dataframe tbody tr th:only-of-type {\n",
       "        vertical-align: middle;\n",
       "    }\n",
       "\n",
       "    .dataframe tbody tr th {\n",
       "        vertical-align: top;\n",
       "    }\n",
       "\n",
       "    .dataframe thead th {\n",
       "        text-align: right;\n",
       "    }\n",
       "</style>\n",
       "<table border=\"1\" class=\"dataframe\">\n",
       "  <thead>\n",
       "    <tr style=\"text-align: right;\">\n",
       "      <th></th>\n",
       "      <th>longitude</th>\n",
       "      <th>latitude</th>\n",
       "      <th>housing_median_age</th>\n",
       "      <th>total_rooms</th>\n",
       "      <th>total_bedrooms</th>\n",
       "      <th>population</th>\n",
       "      <th>households</th>\n",
       "      <th>median_income</th>\n",
       "      <th>median_house_value</th>\n",
       "      <th>ocean_proximity</th>\n",
       "    </tr>\n",
       "  </thead>\n",
       "  <tbody>\n",
       "    <tr>\n",
       "      <th>0</th>\n",
       "      <td>-122.23</td>\n",
       "      <td>37.88</td>\n",
       "      <td>41.0</td>\n",
       "      <td>880.0</td>\n",
       "      <td>129.0</td>\n",
       "      <td>322.0</td>\n",
       "      <td>126.0</td>\n",
       "      <td>8.3252</td>\n",
       "      <td>452600.0</td>\n",
       "      <td>NEAR BAY</td>\n",
       "    </tr>\n",
       "    <tr>\n",
       "      <th>1</th>\n",
       "      <td>-122.22</td>\n",
       "      <td>37.86</td>\n",
       "      <td>21.0</td>\n",
       "      <td>7099.0</td>\n",
       "      <td>1106.0</td>\n",
       "      <td>2401.0</td>\n",
       "      <td>1138.0</td>\n",
       "      <td>8.3014</td>\n",
       "      <td>358500.0</td>\n",
       "      <td>NEAR BAY</td>\n",
       "    </tr>\n",
       "    <tr>\n",
       "      <th>2</th>\n",
       "      <td>-122.24</td>\n",
       "      <td>37.85</td>\n",
       "      <td>52.0</td>\n",
       "      <td>1467.0</td>\n",
       "      <td>190.0</td>\n",
       "      <td>496.0</td>\n",
       "      <td>177.0</td>\n",
       "      <td>7.2574</td>\n",
       "      <td>352100.0</td>\n",
       "      <td>NEAR BAY</td>\n",
       "    </tr>\n",
       "    <tr>\n",
       "      <th>3</th>\n",
       "      <td>-122.25</td>\n",
       "      <td>37.85</td>\n",
       "      <td>52.0</td>\n",
       "      <td>1274.0</td>\n",
       "      <td>235.0</td>\n",
       "      <td>558.0</td>\n",
       "      <td>219.0</td>\n",
       "      <td>5.6431</td>\n",
       "      <td>341300.0</td>\n",
       "      <td>NEAR BAY</td>\n",
       "    </tr>\n",
       "    <tr>\n",
       "      <th>4</th>\n",
       "      <td>-122.25</td>\n",
       "      <td>37.85</td>\n",
       "      <td>52.0</td>\n",
       "      <td>1627.0</td>\n",
       "      <td>280.0</td>\n",
       "      <td>565.0</td>\n",
       "      <td>259.0</td>\n",
       "      <td>3.8462</td>\n",
       "      <td>342200.0</td>\n",
       "      <td>NEAR BAY</td>\n",
       "    </tr>\n",
       "  </tbody>\n",
       "</table>\n",
       "</div>"
      ],
      "text/plain": [
       "   longitude  latitude  housing_median_age  total_rooms  total_bedrooms  \\\n",
       "0    -122.23     37.88                41.0        880.0           129.0   \n",
       "1    -122.22     37.86                21.0       7099.0          1106.0   \n",
       "2    -122.24     37.85                52.0       1467.0           190.0   \n",
       "3    -122.25     37.85                52.0       1274.0           235.0   \n",
       "4    -122.25     37.85                52.0       1627.0           280.0   \n",
       "\n",
       "   population  households  median_income  median_house_value ocean_proximity  \n",
       "0       322.0       126.0         8.3252            452600.0        NEAR BAY  \n",
       "1      2401.0      1138.0         8.3014            358500.0        NEAR BAY  \n",
       "2       496.0       177.0         7.2574            352100.0        NEAR BAY  \n",
       "3       558.0       219.0         5.6431            341300.0        NEAR BAY  \n",
       "4       565.0       259.0         3.8462            342200.0        NEAR BAY  "
      ]
     },
     "execution_count": 22,
     "metadata": {},
     "output_type": "execute_result"
    }
   ],
   "source": [
    "df=pd.read_csv('https://raw.githubusercontent.com/alexeygrigorev/datasets/master/housing.csv')\n",
    "df.head()"
   ]
  },
  {
   "cell_type": "markdown",
   "id": "a0b74bdb",
   "metadata": {},
   "source": [
    "## Data preparation"
   ]
  },
  {
   "cell_type": "code",
   "execution_count": 56,
   "id": "64b4bd9d",
   "metadata": {},
   "outputs": [],
   "source": [
    "df_clean=df.copy()\n",
    "df_clean=df_clean.fillna(0)\n",
    "df_clean['rooms_per_household']=df_clean['total_rooms']/df_clean['households']\n",
    "df_clean['bedrooms_per_room']=df_clean['total_bedrooms']/df_clean['total_rooms']\n",
    "df_clean['rooms_per_household']=df_clean['population']/df_clean['households']"
   ]
  },
  {
   "cell_type": "markdown",
   "id": "9a29083f",
   "metadata": {},
   "source": [
    "## Question 1\n",
    "What is the most frequent observation (mode) for the column ocean_proximity?"
   ]
  },
  {
   "cell_type": "code",
   "execution_count": 57,
   "id": "71167080",
   "metadata": {},
   "outputs": [
    {
     "data": {
      "text/plain": [
       "0    <1H OCEAN\n",
       "dtype: object"
      ]
     },
     "execution_count": 57,
     "metadata": {},
     "output_type": "execute_result"
    }
   ],
   "source": [
    "df_clean['ocean_proximity'].mode()"
   ]
  },
  {
   "cell_type": "markdown",
   "id": "6752bfb7",
   "metadata": {},
   "source": [
    "## Question 2\n",
    "- Create the correlation matrix for the numerical features of your train dataset.\n",
    "    - In a correlation matrix, you compute the correlation coefficient between every pair of features in the dataset.\n",
    "- What are the two features that have the biggest correlation in this dataset?"
   ]
  },
  {
   "cell_type": "code",
   "execution_count": 58,
   "id": "9c18e002",
   "metadata": {},
   "outputs": [
    {
     "data": {
      "text/plain": [
       "<AxesSubplot:>"
      ]
     },
     "execution_count": 58,
     "metadata": {},
     "output_type": "execute_result"
    },
    {
     "data": {
      "image/png": "[encoded data removed]",
      "text/plain": [
       "<Figure size 1152x432 with 2 Axes>"
      ]
     },
     "metadata": {
      "needs_background": "light"
     },
     "output_type": "display_data"
    }
   ],
   "source": [
    "plt.figure(figsize=(16, 6))\n",
    "sns.heatmap(df_clean.corr(),annot=True)"
   ]
  },
  {
   "cell_type": "markdown",
   "id": "388831b1",
   "metadata": {},
   "source": [
    "total_bedrooms and households"
   ]
  },
  {
   "cell_type": "code",
   "execution_count": 59,
   "id": "8259e253",
   "metadata": {},
   "outputs": [],
   "source": [
    "#create new variable\n",
    "df_clean['above_average']=df_clean['median_house_value']>df_clean['median_house_value'].mean()"
   ]
  },
  {
   "cell_type": "code",
   "execution_count": 60,
   "id": "f6938fd8",
   "metadata": {},
   "outputs": [],
   "source": [
    "Y_target=['above_average']\n",
    "X_features=list(set(df_clean.drop(columns=['median_house_value']).columns).difference(Y_target))\n",
    "#split the data\n",
    "X=df_clean[X_features]\n",
    "y=df_clean[Y_target]\n",
    "X_train, X_test, y_train, y_test = train_test_split(X, y, test_size=0.4, random_state=42) # train 60% and test 40%\n",
    "X_test, X_validation, y_test, y_validation = train_test_split(X_test, y_test, test_size=0.5, random_state=42)  \n",
    "#lets split test in half so validation has 20% and test 20% from the original dataset"
   ]
  },
  {
   "cell_type": "code",
   "execution_count": 61,
   "id": "b67147ec",
   "metadata": {},
   "outputs": [
    {
     "data": {
      "text/plain": [
       "['median_income',\n",
       " 'population',\n",
       " 'longitude',\n",
       " 'rooms_per_household',\n",
       " 'housing_median_age',\n",
       " 'latitude',\n",
       " 'bedrooms_per_room',\n",
       " 'total_bedrooms',\n",
       " 'households',\n",
       " 'ocean_proximity',\n",
       " 'total_rooms']"
      ]
     },
     "execution_count": 61,
     "metadata": {},
     "output_type": "execute_result"
    }
   ],
   "source": [
    "X_features"
   ]
  },
  {
   "cell_type": "markdown",
   "id": "4afb0285",
   "metadata": {},
   "source": [
    "## Question 3\n",
    "- Calculate the mutual information score with the (binarized) price for the categorical variable that we have. Use the training set only.\n",
    "- What is the value of mutual information?\n",
    "- Round it to 2 decimal digits using round(score, 2)"
   ]
  },
  {
   "cell_type": "code",
   "execution_count": 62,
   "id": "4d2092c7",
   "metadata": {},
   "outputs": [
    {
     "data": {
      "text/plain": [
       "0.10266844079906365"
      ]
     },
     "execution_count": 62,
     "metadata": {},
     "output_type": "execute_result"
    }
   ],
   "source": [
    "from sklearn.metrics import mutual_info_score\n",
    "\n",
    "mutual_info_score(X_train.ocean_proximity.values.flatten(),y_train.values.flatten())"
   ]
  },
  {
   "cell_type": "markdown",
   "id": "eb765017",
   "metadata": {},
   "source": [
    "## Question 4\n",
    "- Now let's train a logistic regression\n",
    "- Remember that we have one categorical variable ocean_proximity in the data. Include it using one-hot encoding.\n",
    "- Fit the model on the training dataset.\n",
    "    - To make sure the results are reproducible across different versions of Scikit-Learn, fit the model with these parameters:\n",
    "    - model = LogisticRegression(solver=\"liblinear\", C=1.0, max_iter=1000, random_state=42)\n",
    "- Calculate the accuracy on the validation dataset and round it to 2 decimal digit"
   ]
  },
  {
   "cell_type": "code",
   "execution_count": 63,
   "id": "7262927e",
   "metadata": {},
   "outputs": [
    {
     "data": {
      "text/plain": [
       "array([[1.81818182e-01, 6.53000000e+02, 3.50000000e+01, ...,\n",
       "        2.32924962e+00, 6.90000000e+02, 3.79500000e+03],\n",
       "       [1.91666667e-01, 2.40000000e+01, 8.00000000e+00, ...,\n",
       "        2.62500000e+00, 4.60000000e+01, 2.40000000e+02],\n",
       "       [2.07034939e-01, 8.81000000e+02, 2.80000000e+01, ...,\n",
       "        2.27922815e+00, 8.77000000e+02, 4.23600000e+03],\n",
       "       ...,\n",
       "       [2.70823417e-01, 5.27000000e+02, 3.60000000e+01, ...,\n",
       "        3.33206831e+00, 5.69000000e+02, 2.10100000e+03],\n",
       "       [1.66993007e-01, 5.59000000e+02, 1.50000000e+01, ...,\n",
       "        3.17889088e+00, 5.97000000e+02, 3.57500000e+03],\n",
       "       [3.11168954e-01, 1.24200000e+03, 5.20000000e+01, ...,\n",
       "        2.10869565e+00, 1.31500000e+03, 4.22600000e+03]])"
      ]
     },
     "execution_count": 63,
     "metadata": {},
     "output_type": "execute_result"
    }
   ],
   "source": [
    "from sklearn.feature_extraction import DictVectorizer\n",
    "\n",
    "dv=DictVectorizer(sparse=False)\n",
    "train_dict = X_train.to_dict(orient='records')\n",
    "X_traint=dv.fit_transform(train_dict)\n",
    "X_traint"
   ]
  },
  {
   "cell_type": "code",
   "execution_count": 64,
   "id": "5164f140",
   "metadata": {},
   "outputs": [
    {
     "name": "stderr",
     "output_type": "stream",
     "text": [
      "C:\\Users\\GABRIEL\\anaconda3\\lib\\site-packages\\sklearn\\utils\\validation.py:1111: DataConversionWarning: A column-vector y was passed when a 1d array was expected. Please change the shape of y to (n_samples, ), for example using ravel().\n",
      "  y = column_or_1d(y, warn=True)\n"
     ]
    },
    {
     "data": {
      "text/plain": [
       "array([False, False,  True, ...,  True, False,  True])"
      ]
     },
     "execution_count": 64,
     "metadata": {},
     "output_type": "execute_result"
    }
   ],
   "source": [
    "model = LogisticRegression(solver=\"liblinear\", C=1.0, max_iter=1000, random_state=42)\n",
    "model.fit(X_traint,y_train)\n",
    "prediction=model.predict(dv.transform(X_validation.to_dict(orient='records')))\n"
   ]
  },
  {
   "cell_type": "code",
   "execution_count": 73,
   "id": "10aeadfe",
   "metadata": {},
   "outputs": [
    {
     "data": {
      "text/plain": [
       "0.841327519379845"
      ]
     },
     "execution_count": 73,
     "metadata": {},
     "output_type": "execute_result"
    }
   ],
   "source": [
    "from sklearn.metrics import accuracy_score\n",
    "\n",
    "Original_acc=accuracy_score(y_validation,prediction)\n",
    "Original_acc"
   ]
  },
  {
   "cell_type": "markdown",
   "id": "86b7ccb7",
   "metadata": {},
   "source": [
    "## Question 5\n",
    "- Let's find the least useful feature using the feature elimination technique.\n",
    "- Train a model with all these features (using the same parameters as in Q4).\n",
    "- Now exclude each feature from this set and train a model without it. Record the accuracy for each model.\n",
    "- For each feature, calculate the difference between the original accuracy and the accuracy without the feature.\n",
    "- Which of following feature has the smallest difference?"
   ]
  },
  {
   "cell_type": "code",
   "execution_count": 77,
   "id": "81aaf807",
   "metadata": {},
   "outputs": [
    {
     "data": {
      "text/plain": [
       "array([[6.53000000e+02, 3.50000000e+01, 3.41100000e+01, ...,\n",
       "        2.32924962e+00, 6.90000000e+02, 3.79500000e+03],\n",
       "       [2.40000000e+01, 8.00000000e+00, 3.33200000e+01, ...,\n",
       "        2.62500000e+00, 4.60000000e+01, 2.40000000e+02],\n",
       "       [8.81000000e+02, 2.80000000e+01, 3.87400000e+01, ...,\n",
       "        2.27922815e+00, 8.77000000e+02, 4.23600000e+03],\n",
       "       ...,\n",
       "       [5.27000000e+02, 3.60000000e+01, 3.40300000e+01, ...,\n",
       "        3.33206831e+00, 5.69000000e+02, 2.10100000e+03],\n",
       "       [5.59000000e+02, 1.50000000e+01, 3.75800000e+01, ...,\n",
       "        3.17889088e+00, 5.97000000e+02, 3.57500000e+03],\n",
       "       [1.24200000e+03, 5.20000000e+01, 3.77700000e+01, ...,\n",
       "        2.10869565e+00, 1.31500000e+03, 4.22600000e+03]])"
      ]
     },
     "execution_count": 77,
     "metadata": {},
     "output_type": "execute_result"
    }
   ],
   "source": [
    "np.delete(X_traint, 0, axis=1)"
   ]
  },
  {
   "cell_type": "code",
   "execution_count": 78,
   "id": "ec2e3f0f",
   "metadata": {},
   "outputs": [
    {
     "name": "stderr",
     "output_type": "stream",
     "text": [
      "C:\\Users\\GABRIEL\\anaconda3\\lib\\site-packages\\sklearn\\utils\\deprecation.py:87: FutureWarning: Function get_feature_names is deprecated; get_feature_names is deprecated in 1.0 and will be removed in 1.2. Please use get_feature_names_out instead.\n",
      "  warnings.warn(msg, category=FutureWarning)\n",
      "C:\\Users\\GABRIEL\\anaconda3\\lib\\site-packages\\sklearn\\utils\\validation.py:1111: DataConversionWarning: A column-vector y was passed when a 1d array was expected. Please change the shape of y to (n_samples, ), for example using ravel().\n",
      "  y = column_or_1d(y, warn=True)\n",
      "C:\\Users\\GABRIEL\\anaconda3\\lib\\site-packages\\sklearn\\utils\\validation.py:1111: DataConversionWarning: A column-vector y was passed when a 1d array was expected. Please change the shape of y to (n_samples, ), for example using ravel().\n",
      "  y = column_or_1d(y, warn=True)\n",
      "C:\\Users\\GABRIEL\\anaconda3\\lib\\site-packages\\sklearn\\utils\\validation.py:1111: DataConversionWarning: A column-vector y was passed when a 1d array was expected. Please change the shape of y to (n_samples, ), for example using ravel().\n",
      "  y = column_or_1d(y, warn=True)\n",
      "C:\\Users\\GABRIEL\\anaconda3\\lib\\site-packages\\sklearn\\utils\\validation.py:1111: DataConversionWarning: A column-vector y was passed when a 1d array was expected. Please change the shape of y to (n_samples, ), for example using ravel().\n",
      "  y = column_or_1d(y, warn=True)\n",
      "C:\\Users\\GABRIEL\\anaconda3\\lib\\site-packages\\sklearn\\utils\\validation.py:1111: DataConversionWarning: A column-vector y was passed when a 1d array was expected. Please change the shape of y to (n_samples, ), for example using ravel().\n",
      "  y = column_or_1d(y, warn=True)\n",
      "C:\\Users\\GABRIEL\\anaconda3\\lib\\site-packages\\sklearn\\utils\\validation.py:1111: DataConversionWarning: A column-vector y was passed when a 1d array was expected. Please change the shape of y to (n_samples, ), for example using ravel().\n",
      "  y = column_or_1d(y, warn=True)\n",
      "C:\\Users\\GABRIEL\\anaconda3\\lib\\site-packages\\sklearn\\utils\\validation.py:1111: DataConversionWarning: A column-vector y was passed when a 1d array was expected. Please change the shape of y to (n_samples, ), for example using ravel().\n",
      "  y = column_or_1d(y, warn=True)\n",
      "C:\\Users\\GABRIEL\\anaconda3\\lib\\site-packages\\sklearn\\utils\\validation.py:1111: DataConversionWarning: A column-vector y was passed when a 1d array was expected. Please change the shape of y to (n_samples, ), for example using ravel().\n",
      "  y = column_or_1d(y, warn=True)\n",
      "C:\\Users\\GABRIEL\\anaconda3\\lib\\site-packages\\sklearn\\utils\\validation.py:1111: DataConversionWarning: A column-vector y was passed when a 1d array was expected. Please change the shape of y to (n_samples, ), for example using ravel().\n",
      "  y = column_or_1d(y, warn=True)\n",
      "C:\\Users\\GABRIEL\\anaconda3\\lib\\site-packages\\sklearn\\utils\\validation.py:1111: DataConversionWarning: A column-vector y was passed when a 1d array was expected. Please change the shape of y to (n_samples, ), for example using ravel().\n",
      "  y = column_or_1d(y, warn=True)\n",
      "C:\\Users\\GABRIEL\\anaconda3\\lib\\site-packages\\sklearn\\utils\\validation.py:1111: DataConversionWarning: A column-vector y was passed when a 1d array was expected. Please change the shape of y to (n_samples, ), for example using ravel().\n",
      "  y = column_or_1d(y, warn=True)\n",
      "C:\\Users\\GABRIEL\\anaconda3\\lib\\site-packages\\sklearn\\utils\\validation.py:1111: DataConversionWarning: A column-vector y was passed when a 1d array was expected. Please change the shape of y to (n_samples, ), for example using ravel().\n",
      "  y = column_or_1d(y, warn=True)\n",
      "C:\\Users\\GABRIEL\\anaconda3\\lib\\site-packages\\sklearn\\utils\\validation.py:1111: DataConversionWarning: A column-vector y was passed when a 1d array was expected. Please change the shape of y to (n_samples, ), for example using ravel().\n",
      "  y = column_or_1d(y, warn=True)\n",
      "C:\\Users\\GABRIEL\\anaconda3\\lib\\site-packages\\sklearn\\utils\\validation.py:1111: DataConversionWarning: A column-vector y was passed when a 1d array was expected. Please change the shape of y to (n_samples, ), for example using ravel().\n",
      "  y = column_or_1d(y, warn=True)\n",
      "C:\\Users\\GABRIEL\\anaconda3\\lib\\site-packages\\sklearn\\utils\\validation.py:1111: DataConversionWarning: A column-vector y was passed when a 1d array was expected. Please change the shape of y to (n_samples, ), for example using ravel().\n",
      "  y = column_or_1d(y, warn=True)\n"
     ]
    },
    {
     "data": {
      "text/html": [
       "<div>\n",
       "<style scoped>\n",
       "    .dataframe tbody tr th:only-of-type {\n",
       "        vertical-align: middle;\n",
       "    }\n",
       "\n",
       "    .dataframe tbody tr th {\n",
       "        vertical-align: top;\n",
       "    }\n",
       "\n",
       "    .dataframe thead th {\n",
       "        text-align: right;\n",
       "    }\n",
       "</style>\n",
       "<table border=\"1\" class=\"dataframe\">\n",
       "  <thead>\n",
       "    <tr style=\"text-align: right;\">\n",
       "      <th></th>\n",
       "      <th>model_sin_feature</th>\n",
       "      <th>New_acc</th>\n",
       "      <th>Original_acc</th>\n",
       "      <th>diff_acc Original-New</th>\n",
       "    </tr>\n",
       "  </thead>\n",
       "  <tbody>\n",
       "    <tr>\n",
       "      <th>0</th>\n",
       "      <td>bedrooms_per_room</td>\n",
       "      <td>0.842781</td>\n",
       "      <td>0.841328</td>\n",
       "      <td>-0.001453</td>\n",
       "    </tr>\n",
       "    <tr>\n",
       "      <th>1</th>\n",
       "      <td>households</td>\n",
       "      <td>0.835756</td>\n",
       "      <td>0.841328</td>\n",
       "      <td>0.005572</td>\n",
       "    </tr>\n",
       "    <tr>\n",
       "      <th>2</th>\n",
       "      <td>housing_median_age</td>\n",
       "      <td>0.828004</td>\n",
       "      <td>0.841328</td>\n",
       "      <td>0.013324</td>\n",
       "    </tr>\n",
       "    <tr>\n",
       "      <th>3</th>\n",
       "      <td>latitude</td>\n",
       "      <td>0.837209</td>\n",
       "      <td>0.841328</td>\n",
       "      <td>0.004118</td>\n",
       "    </tr>\n",
       "    <tr>\n",
       "      <th>4</th>\n",
       "      <td>longitude</td>\n",
       "      <td>0.835271</td>\n",
       "      <td>0.841328</td>\n",
       "      <td>0.006056</td>\n",
       "    </tr>\n",
       "    <tr>\n",
       "      <th>5</th>\n",
       "      <td>median_income</td>\n",
       "      <td>0.769864</td>\n",
       "      <td>0.841328</td>\n",
       "      <td>0.071463</td>\n",
       "    </tr>\n",
       "    <tr>\n",
       "      <th>6</th>\n",
       "      <td>ocean_proximity=&lt;1H OCEAN</td>\n",
       "      <td>0.842297</td>\n",
       "      <td>0.841328</td>\n",
       "      <td>-0.000969</td>\n",
       "    </tr>\n",
       "    <tr>\n",
       "      <th>7</th>\n",
       "      <td>ocean_proximity=INLAND</td>\n",
       "      <td>0.844477</td>\n",
       "      <td>0.841328</td>\n",
       "      <td>-0.003149</td>\n",
       "    </tr>\n",
       "    <tr>\n",
       "      <th>8</th>\n",
       "      <td>ocean_proximity=ISLAND</td>\n",
       "      <td>0.842781</td>\n",
       "      <td>0.841328</td>\n",
       "      <td>-0.001453</td>\n",
       "    </tr>\n",
       "    <tr>\n",
       "      <th>9</th>\n",
       "      <td>ocean_proximity=NEAR BAY</td>\n",
       "      <td>0.842781</td>\n",
       "      <td>0.841328</td>\n",
       "      <td>-0.001453</td>\n",
       "    </tr>\n",
       "    <tr>\n",
       "      <th>10</th>\n",
       "      <td>ocean_proximity=NEAR OCEAN</td>\n",
       "      <td>0.842297</td>\n",
       "      <td>0.841328</td>\n",
       "      <td>-0.000969</td>\n",
       "    </tr>\n",
       "    <tr>\n",
       "      <th>11</th>\n",
       "      <td>population</td>\n",
       "      <td>0.833576</td>\n",
       "      <td>0.841328</td>\n",
       "      <td>0.007752</td>\n",
       "    </tr>\n",
       "    <tr>\n",
       "      <th>12</th>\n",
       "      <td>rooms_per_household</td>\n",
       "      <td>0.841812</td>\n",
       "      <td>0.841328</td>\n",
       "      <td>-0.000484</td>\n",
       "    </tr>\n",
       "    <tr>\n",
       "      <th>13</th>\n",
       "      <td>total_bedrooms</td>\n",
       "      <td>0.841570</td>\n",
       "      <td>0.841328</td>\n",
       "      <td>-0.000242</td>\n",
       "    </tr>\n",
       "    <tr>\n",
       "      <th>14</th>\n",
       "      <td>total_rooms</td>\n",
       "      <td>0.839874</td>\n",
       "      <td>0.841328</td>\n",
       "      <td>0.001453</td>\n",
       "    </tr>\n",
       "  </tbody>\n",
       "</table>\n",
       "</div>"
      ],
      "text/plain": [
       "             model_sin_feature   New_acc  Original_acc  diff_acc Original-New\n",
       "0            bedrooms_per_room  0.842781      0.841328              -0.001453\n",
       "1                   households  0.835756      0.841328               0.005572\n",
       "2           housing_median_age  0.828004      0.841328               0.013324\n",
       "3                     latitude  0.837209      0.841328               0.004118\n",
       "4                    longitude  0.835271      0.841328               0.006056\n",
       "5                median_income  0.769864      0.841328               0.071463\n",
       "6    ocean_proximity=<1H OCEAN  0.842297      0.841328              -0.000969\n",
       "7       ocean_proximity=INLAND  0.844477      0.841328              -0.003149\n",
       "8       ocean_proximity=ISLAND  0.842781      0.841328              -0.001453\n",
       "9     ocean_proximity=NEAR BAY  0.842781      0.841328              -0.001453\n",
       "10  ocean_proximity=NEAR OCEAN  0.842297      0.841328              -0.000969\n",
       "11                  population  0.833576      0.841328               0.007752\n",
       "12         rooms_per_household  0.841812      0.841328              -0.000484\n",
       "13              total_bedrooms  0.841570      0.841328              -0.000242\n",
       "14                 total_rooms  0.839874      0.841328               0.001453"
      ]
     },
     "execution_count": 78,
     "metadata": {},
     "output_type": "execute_result"
    }
   ],
   "source": [
    "resultados_df=[]\n",
    "feature_names=dv.get_feature_names()\n",
    "X_validationt=dv.transform(X_validation.to_dict(orient='records'))\n",
    "\n",
    "for feature in range(X_traint.shape[1]):\n",
    "    X_traint_sinf=np.delete(X_traint, feature, axis=1)\n",
    "    model = LogisticRegression(solver=\"liblinear\", C=1.0, max_iter=1000, random_state=42)\n",
    "    model.fit(X_traint_sinf,y_train)\n",
    "    X_validationt_sinf=np.delete(X_validationt, feature, axis=1)\n",
    "    prediction=model.predict(X_validationt_sinf)\n",
    "    new_acc=accuracy_score(y_validation,prediction)\n",
    "    resultados_df.append([feature_names[feature],new_acc])\n",
    "resultados_df=pd.DataFrame(resultados_df,columns=['model_sin_feature','New_acc'])\n",
    "resultados_df['Original_acc']=Original_acc\n",
    "resultados_df['diff_acc Original-New']=resultados_df['Original_acc']-resultados_df['New_acc']\n",
    "resultados_df"
   ]
  },
  {
   "cell_type": "code",
   "execution_count": 82,
   "id": "b2ae2918",
   "metadata": {},
   "outputs": [
    {
     "data": {
      "text/plain": [
       "'total_bedrooms'"
      ]
     },
     "execution_count": 82,
     "metadata": {},
     "output_type": "execute_result"
    }
   ],
   "source": [
    "indice_menor=resultados_df['diff_acc Original-New'].abs().idxmin()\n",
    "resultados_df['model_sin_feature'][indice_menor]"
   ]
  },
  {
   "cell_type": "markdown",
   "id": "1c455c33",
   "metadata": {},
   "source": [
    "## Question 6\n",
    "- For this question, we'll see how to use a linear regression model from Scikit-Learn\n",
    "- We'll need to use the original column 'median_house_value'. Apply the logarithmic transformation to this column.\n",
    "- Fit the Ridge regression model (model = Ridge(alpha=a, solver=\"sag\", random_state=42)) on the training data.\n",
    "- This model has a parameter alpha. Let's try the following values: [0, 0.01, 0.1, 1, 10]\n",
    "- Which of these alphas leads to the best RMSE on the validation set? Round your RMSE scores to 3 decimal digits."
   ]
  },
  {
   "cell_type": "code",
   "execution_count": 83,
   "id": "f86ef89b",
   "metadata": {},
   "outputs": [],
   "source": [
    "def rmse(y:np.array, y_pred:np.array)->float:\n",
    "    error = y_pred - y\n",
    "    mse = (error ** 2).mean()\n",
    "    return np.sqrt(mse)"
   ]
  },
  {
   "cell_type": "code",
   "execution_count": 89,
   "id": "2c8ebbfb",
   "metadata": {},
   "outputs": [],
   "source": [
    "\n",
    "\n",
    "Y_target=['median_house_value']\n",
    "X_features=list(set(df_clean.drop(columns=['above_average']).columns).difference(Y_target))\n",
    "#split the data\n",
    "X=df_clean[X_features]\n",
    "y=df_clean[Y_target].apply(lambda x: np.log1p(x))\n",
    "X_train, X_test, y_train, y_test = train_test_split(X, y, test_size=0.4, random_state=42) # train 60% and test 40%\n",
    "X_test, X_validation, y_test, y_validation = train_test_split(X_test, y_test, test_size=0.5, random_state=42)  \n",
    "#lets split test in half so validation has 20% and test 20% from the original dataset\n",
    "\n",
    "dv=DictVectorizer(sparse=False)\n",
    "train_dict = X_train.to_dict(orient='records')\n",
    "X_train=dv.fit_transform(train_dict)\n",
    "X_validation=dv.transform(X_validation.to_dict(orient='records'))\n",
    "\n",
    "\n",
    "aplhas=[0, 0.01, 0.1, 1, 10]\n",
    "resultados_lineal=[]\n",
    "for alp in aplhas:\n",
    "    model = Ridge(alpha=alp, solver=\"sag\",random_state=42)\n",
    "    model.fit(X_train,y_train)\n",
    "    prediction=model.predict(X_validation)\n",
    "    rmse_result=rmse(y_validation.values,prediction)\n",
    "    resultados_lineal.append([alp,rmse_result])\n",
    "resultados_lineal=pd.DataFrame(resultados_lineal,columns=['alpha','RMSE'])"
   ]
  },
  {
   "cell_type": "code",
   "execution_count": 90,
   "id": "172a1c5b",
   "metadata": {},
   "outputs": [
    {
     "data": {
      "text/html": [
       "<div>\n",
       "<style scoped>\n",
       "    .dataframe tbody tr th:only-of-type {\n",
       "        vertical-align: middle;\n",
       "    }\n",
       "\n",
       "    .dataframe tbody tr th {\n",
       "        vertical-align: top;\n",
       "    }\n",
       "\n",
       "    .dataframe thead th {\n",
       "        text-align: right;\n",
       "    }\n",
       "</style>\n",
       "<table border=\"1\" class=\"dataframe\">\n",
       "  <thead>\n",
       "    <tr style=\"text-align: right;\">\n",
       "      <th></th>\n",
       "      <th>alpha</th>\n",
       "      <th>RMSE</th>\n",
       "    </tr>\n",
       "  </thead>\n",
       "  <tbody>\n",
       "    <tr>\n",
       "      <th>0</th>\n",
       "      <td>0.00</td>\n",
       "      <td>0.54948</td>\n",
       "    </tr>\n",
       "    <tr>\n",
       "      <th>1</th>\n",
       "      <td>0.01</td>\n",
       "      <td>0.54948</td>\n",
       "    </tr>\n",
       "    <tr>\n",
       "      <th>2</th>\n",
       "      <td>0.10</td>\n",
       "      <td>0.54948</td>\n",
       "    </tr>\n",
       "    <tr>\n",
       "      <th>3</th>\n",
       "      <td>1.00</td>\n",
       "      <td>0.54948</td>\n",
       "    </tr>\n",
       "    <tr>\n",
       "      <th>4</th>\n",
       "      <td>10.00</td>\n",
       "      <td>0.54948</td>\n",
       "    </tr>\n",
       "  </tbody>\n",
       "</table>\n",
       "</div>"
      ],
      "text/plain": [
       "   alpha     RMSE\n",
       "0   0.00  0.54948\n",
       "1   0.01  0.54948\n",
       "2   0.10  0.54948\n",
       "3   1.00  0.54948\n",
       "4  10.00  0.54948"
      ]
     },
     "execution_count": 90,
     "metadata": {},
     "output_type": "execute_result"
    }
   ],
   "source": [
    "resultados_lineal"
   ]
  },
  {
   "cell_type": "code",
   "execution_count": 91,
   "id": "2be95dd1",
   "metadata": {},
   "outputs": [],
   "source": [
    "#aplha 0"
   ]
  },
  {
   "cell_type": "code",
   "execution_count": null,
   "id": "2e86f2d5",
   "metadata": {},
   "outputs": [],
   "source": []
  }
 ],
 "metadata": {
  "kernelspec": {
   "display_name": "Python 3",
   "language": "python",
   "name": "python3"
  },
  "language_info": {
   "codemirror_mode": {
    "name": "ipython",
    "version": 3
   },
   "file_extension": ".py",
   "mimetype": "text/x-python",
   "name": "python",
   "nbconvert_exporter": "python",
   "pygments_lexer": "ipython3",
   "version": "3.8.8"
  }
 },
 "nbformat": 4,
 "nbformat_minor": 5
}
